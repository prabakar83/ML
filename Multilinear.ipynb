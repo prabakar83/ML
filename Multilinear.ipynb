{
 "cells": [
  {
   "cell_type": "code",
   "execution_count": 5,
   "id": "66ffc6c8-1f2f-4e0c-9848-61490e775399",
   "metadata": {},
   "outputs": [
    {
     "name": "stdout",
     "output_type": "stream",
     "text": [
      "    R&D Spend  Administration  Marketing Spend  State     Profit\n",
      "0   165349.20       136897.80        471784.10      2  192261.83\n",
      "1   162597.70       151377.59        443898.53      0  191792.06\n",
      "2   153441.51       101145.55        407934.54      1  191050.39\n",
      "3   144372.41       118671.85        383199.62      2  182901.99\n",
      "4   142107.34        91391.77        366168.42      1  166187.94\n",
      "5   131876.90        99814.71        362861.36      2  156991.12\n",
      "6   134615.46       147198.87        127716.82      0  156122.51\n",
      "7   130298.13       145530.06        323876.68      1  155752.60\n",
      "8   120542.52       148718.95        311613.29      2  152211.77\n",
      "9   123334.88       108679.17        304981.62      0  149759.96\n",
      "10  101913.08       110594.11        229160.95      1  146121.95\n",
      "11  100671.96        91790.61        249744.55      0  144259.40\n",
      "12   93863.75       127320.38        249839.44      1  141585.52\n",
      "13   91992.39       135495.07        252664.93      0  134307.35\n",
      "14  119943.24       156547.42        256512.92      1  132602.65\n",
      "15  114523.61       122616.84        261776.23      2  129917.04\n",
      "16   78013.11       121597.55        264346.06      0  126992.93\n",
      "17   94657.16       145077.58        282574.31      2  125370.37\n",
      "18   91749.16       114175.79        294919.57      1  124266.90\n",
      "19   86419.70       153514.11             0.00      2  122776.86\n",
      "20   76253.86       113867.30        298664.47      0  118474.03\n",
      "21   78389.47       153773.43        299737.29      2  111313.02\n",
      "22   73994.56       122782.75        303319.26      1  110352.25\n",
      "23   67532.53       105751.03        304768.73      1  108733.99\n",
      "24   77044.01        99281.34        140574.81      2  108552.04\n",
      "25   64664.71       139553.16        137962.62      0  107404.34\n",
      "26   75328.87       144135.98        134050.07      1  105733.54\n",
      "27   72107.60       127864.55        353183.81      2  105008.31\n",
      "28   66051.52       182645.56        118148.20      1  103282.38\n",
      "29   65605.48       153032.06        107138.38      2  101004.64\n",
      "30   61994.48       115641.28         91131.24      1   99937.59\n",
      "31   61136.38       152701.92         88218.23      2   97483.56\n",
      "32   63408.86       129219.61         46085.25      0   97427.84\n",
      "33   55493.95       103057.49        214634.81      1   96778.92\n",
      "34   46426.07       157693.92        210797.67      0   96712.80\n",
      "35   46014.02        85047.44        205517.64      2   96479.51\n",
      "36   28663.76       127056.21        201126.82      1   90708.19\n",
      "37   44069.95        51283.14        197029.42      0   89949.14\n",
      "38   20229.59        65947.93        185265.10      2   81229.06\n",
      "39   38558.51        82982.09        174999.30      0   81005.76\n",
      "40   28754.33       118546.05        172795.67      0   78239.91\n",
      "41   27892.92        84710.77        164470.71      1   77798.83\n",
      "42   23640.93        96189.63        148001.11      0   71498.49\n",
      "43   15505.73       127382.30         35534.17      2   69758.98\n",
      "44   22177.74       154806.14         28334.72      0   65200.33\n",
      "45    1000.23       124153.04          1903.93      2   64926.08\n",
      "46    1315.46       115816.21        297114.46      1   49490.75\n",
      "47       0.00       135426.92             0.00      0   42559.73\n",
      "48     542.05        51743.15             0.00      2   35673.41\n",
      "49       0.00       116983.80         45173.06      0   14681.40\n"
     ]
    }
   ],
   "source": [
    "import pandas as pd\n",
    "from sklearn.preprocessing import LabelEncoder\n",
    "a=pd.read_csv(r'‪C:\\Users\\JAY\\Downloads\\50_Startups.csv'.replace('\\u202a', ''))\n",
    "label_encoder = LabelEncoder()\n",
    "a['State'] = label_encoder.fit_transform(a['State'])\n",
    "print(a)"
   ]
  },
  {
   "cell_type": "code",
   "execution_count": 6,
   "id": "8d886042-e8c8-434e-91dc-f933e4674406",
   "metadata": {},
   "outputs": [
    {
     "data": {
      "text/plain": [
       "array([[1.6534920e+05, 1.3689780e+05, 4.7178410e+05, 2.0000000e+00],\n",
       "       [1.6259770e+05, 1.5137759e+05, 4.4389853e+05, 0.0000000e+00],\n",
       "       [1.5344151e+05, 1.0114555e+05, 4.0793454e+05, 1.0000000e+00],\n",
       "       [1.4437241e+05, 1.1867185e+05, 3.8319962e+05, 2.0000000e+00],\n",
       "       [1.4210734e+05, 9.1391770e+04, 3.6616842e+05, 1.0000000e+00],\n",
       "       [1.3187690e+05, 9.9814710e+04, 3.6286136e+05, 2.0000000e+00],\n",
       "       [1.3461546e+05, 1.4719887e+05, 1.2771682e+05, 0.0000000e+00],\n",
       "       [1.3029813e+05, 1.4553006e+05, 3.2387668e+05, 1.0000000e+00],\n",
       "       [1.2054252e+05, 1.4871895e+05, 3.1161329e+05, 2.0000000e+00],\n",
       "       [1.2333488e+05, 1.0867917e+05, 3.0498162e+05, 0.0000000e+00],\n",
       "       [1.0191308e+05, 1.1059411e+05, 2.2916095e+05, 1.0000000e+00],\n",
       "       [1.0067196e+05, 9.1790610e+04, 2.4974455e+05, 0.0000000e+00],\n",
       "       [9.3863750e+04, 1.2732038e+05, 2.4983944e+05, 1.0000000e+00],\n",
       "       [9.1992390e+04, 1.3549507e+05, 2.5266493e+05, 0.0000000e+00],\n",
       "       [1.1994324e+05, 1.5654742e+05, 2.5651292e+05, 1.0000000e+00],\n",
       "       [1.1452361e+05, 1.2261684e+05, 2.6177623e+05, 2.0000000e+00],\n",
       "       [7.8013110e+04, 1.2159755e+05, 2.6434606e+05, 0.0000000e+00],\n",
       "       [9.4657160e+04, 1.4507758e+05, 2.8257431e+05, 2.0000000e+00],\n",
       "       [9.1749160e+04, 1.1417579e+05, 2.9491957e+05, 1.0000000e+00],\n",
       "       [8.6419700e+04, 1.5351411e+05, 0.0000000e+00, 2.0000000e+00],\n",
       "       [7.6253860e+04, 1.1386730e+05, 2.9866447e+05, 0.0000000e+00],\n",
       "       [7.8389470e+04, 1.5377343e+05, 2.9973729e+05, 2.0000000e+00],\n",
       "       [7.3994560e+04, 1.2278275e+05, 3.0331926e+05, 1.0000000e+00],\n",
       "       [6.7532530e+04, 1.0575103e+05, 3.0476873e+05, 1.0000000e+00],\n",
       "       [7.7044010e+04, 9.9281340e+04, 1.4057481e+05, 2.0000000e+00],\n",
       "       [6.4664710e+04, 1.3955316e+05, 1.3796262e+05, 0.0000000e+00],\n",
       "       [7.5328870e+04, 1.4413598e+05, 1.3405007e+05, 1.0000000e+00],\n",
       "       [7.2107600e+04, 1.2786455e+05, 3.5318381e+05, 2.0000000e+00],\n",
       "       [6.6051520e+04, 1.8264556e+05, 1.1814820e+05, 1.0000000e+00],\n",
       "       [6.5605480e+04, 1.5303206e+05, 1.0713838e+05, 2.0000000e+00],\n",
       "       [6.1994480e+04, 1.1564128e+05, 9.1131240e+04, 1.0000000e+00],\n",
       "       [6.1136380e+04, 1.5270192e+05, 8.8218230e+04, 2.0000000e+00],\n",
       "       [6.3408860e+04, 1.2921961e+05, 4.6085250e+04, 0.0000000e+00],\n",
       "       [5.5493950e+04, 1.0305749e+05, 2.1463481e+05, 1.0000000e+00],\n",
       "       [4.6426070e+04, 1.5769392e+05, 2.1079767e+05, 0.0000000e+00],\n",
       "       [4.6014020e+04, 8.5047440e+04, 2.0551764e+05, 2.0000000e+00],\n",
       "       [2.8663760e+04, 1.2705621e+05, 2.0112682e+05, 1.0000000e+00],\n",
       "       [4.4069950e+04, 5.1283140e+04, 1.9702942e+05, 0.0000000e+00],\n",
       "       [2.0229590e+04, 6.5947930e+04, 1.8526510e+05, 2.0000000e+00],\n",
       "       [3.8558510e+04, 8.2982090e+04, 1.7499930e+05, 0.0000000e+00],\n",
       "       [2.8754330e+04, 1.1854605e+05, 1.7279567e+05, 0.0000000e+00],\n",
       "       [2.7892920e+04, 8.4710770e+04, 1.6447071e+05, 1.0000000e+00],\n",
       "       [2.3640930e+04, 9.6189630e+04, 1.4800111e+05, 0.0000000e+00],\n",
       "       [1.5505730e+04, 1.2738230e+05, 3.5534170e+04, 2.0000000e+00],\n",
       "       [2.2177740e+04, 1.5480614e+05, 2.8334720e+04, 0.0000000e+00],\n",
       "       [1.0002300e+03, 1.2415304e+05, 1.9039300e+03, 2.0000000e+00],\n",
       "       [1.3154600e+03, 1.1581621e+05, 2.9711446e+05, 1.0000000e+00],\n",
       "       [0.0000000e+00, 1.3542692e+05, 0.0000000e+00, 0.0000000e+00],\n",
       "       [5.4205000e+02, 5.1743150e+04, 0.0000000e+00, 2.0000000e+00],\n",
       "       [0.0000000e+00, 1.1698380e+05, 4.5173060e+04, 0.0000000e+00]])"
      ]
     },
     "execution_count": 6,
     "metadata": {},
     "output_type": "execute_result"
    }
   ],
   "source": [
    "x=a.iloc[:,:-1].values\n",
    "x"
   ]
  },
  {
   "cell_type": "code",
   "execution_count": 8,
   "id": "4b62909f-3d8a-4167-be59-9b2d2a3818e4",
   "metadata": {},
   "outputs": [
    {
     "data": {
      "text/plain": [
       "array([192261.83, 191792.06, 191050.39, 182901.99, 166187.94, 156991.12,\n",
       "       156122.51, 155752.6 , 152211.77, 149759.96, 146121.95, 144259.4 ,\n",
       "       141585.52, 134307.35, 132602.65, 129917.04, 126992.93, 125370.37,\n",
       "       124266.9 , 122776.86, 118474.03, 111313.02, 110352.25, 108733.99,\n",
       "       108552.04, 107404.34, 105733.54, 105008.31, 103282.38, 101004.64,\n",
       "        99937.59,  97483.56,  97427.84,  96778.92,  96712.8 ,  96479.51,\n",
       "        90708.19,  89949.14,  81229.06,  81005.76,  78239.91,  77798.83,\n",
       "        71498.49,  69758.98,  65200.33,  64926.08,  49490.75,  42559.73,\n",
       "        35673.41,  14681.4 ])"
      ]
     },
     "execution_count": 8,
     "metadata": {},
     "output_type": "execute_result"
    }
   ],
   "source": [
    "y=a.iloc[:,4].values\n",
    "y"
   ]
  },
  {
   "cell_type": "code",
   "execution_count": 9,
   "id": "7c7889a2-0876-41bf-b36a-0c747f56b255",
   "metadata": {},
   "outputs": [
    {
     "data": {
      "text/html": [
       "<style>#sk-container-id-1 {color: black;background-color: white;}#sk-container-id-1 pre{padding: 0;}#sk-container-id-1 div.sk-toggleable {background-color: white;}#sk-container-id-1 label.sk-toggleable__label {cursor: pointer;display: block;width: 100%;margin-bottom: 0;padding: 0.3em;box-sizing: border-box;text-align: center;}#sk-container-id-1 label.sk-toggleable__label-arrow:before {content: \"▸\";float: left;margin-right: 0.25em;color: #696969;}#sk-container-id-1 label.sk-toggleable__label-arrow:hover:before {color: black;}#sk-container-id-1 div.sk-estimator:hover label.sk-toggleable__label-arrow:before {color: black;}#sk-container-id-1 div.sk-toggleable__content {max-height: 0;max-width: 0;overflow: hidden;text-align: left;background-color: #f0f8ff;}#sk-container-id-1 div.sk-toggleable__content pre {margin: 0.2em;color: black;border-radius: 0.25em;background-color: #f0f8ff;}#sk-container-id-1 input.sk-toggleable__control:checked~div.sk-toggleable__content {max-height: 200px;max-width: 100%;overflow: auto;}#sk-container-id-1 input.sk-toggleable__control:checked~label.sk-toggleable__label-arrow:before {content: \"▾\";}#sk-container-id-1 div.sk-estimator input.sk-toggleable__control:checked~label.sk-toggleable__label {background-color: #d4ebff;}#sk-container-id-1 div.sk-label input.sk-toggleable__control:checked~label.sk-toggleable__label {background-color: #d4ebff;}#sk-container-id-1 input.sk-hidden--visually {border: 0;clip: rect(1px 1px 1px 1px);clip: rect(1px, 1px, 1px, 1px);height: 1px;margin: -1px;overflow: hidden;padding: 0;position: absolute;width: 1px;}#sk-container-id-1 div.sk-estimator {font-family: monospace;background-color: #f0f8ff;border: 1px dotted black;border-radius: 0.25em;box-sizing: border-box;margin-bottom: 0.5em;}#sk-container-id-1 div.sk-estimator:hover {background-color: #d4ebff;}#sk-container-id-1 div.sk-parallel-item::after {content: \"\";width: 100%;border-bottom: 1px solid gray;flex-grow: 1;}#sk-container-id-1 div.sk-label:hover label.sk-toggleable__label {background-color: #d4ebff;}#sk-container-id-1 div.sk-serial::before {content: \"\";position: absolute;border-left: 1px solid gray;box-sizing: border-box;top: 0;bottom: 0;left: 50%;z-index: 0;}#sk-container-id-1 div.sk-serial {display: flex;flex-direction: column;align-items: center;background-color: white;padding-right: 0.2em;padding-left: 0.2em;position: relative;}#sk-container-id-1 div.sk-item {position: relative;z-index: 1;}#sk-container-id-1 div.sk-parallel {display: flex;align-items: stretch;justify-content: center;background-color: white;position: relative;}#sk-container-id-1 div.sk-item::before, #sk-container-id-1 div.sk-parallel-item::before {content: \"\";position: absolute;border-left: 1px solid gray;box-sizing: border-box;top: 0;bottom: 0;left: 50%;z-index: -1;}#sk-container-id-1 div.sk-parallel-item {display: flex;flex-direction: column;z-index: 1;position: relative;background-color: white;}#sk-container-id-1 div.sk-parallel-item:first-child::after {align-self: flex-end;width: 50%;}#sk-container-id-1 div.sk-parallel-item:last-child::after {align-self: flex-start;width: 50%;}#sk-container-id-1 div.sk-parallel-item:only-child::after {width: 0;}#sk-container-id-1 div.sk-dashed-wrapped {border: 1px dashed gray;margin: 0 0.4em 0.5em 0.4em;box-sizing: border-box;padding-bottom: 0.4em;background-color: white;}#sk-container-id-1 div.sk-label label {font-family: monospace;font-weight: bold;display: inline-block;line-height: 1.2em;}#sk-container-id-1 div.sk-label-container {text-align: center;}#sk-container-id-1 div.sk-container {/* jupyter's `normalize.less` sets `[hidden] { display: none; }` but bootstrap.min.css set `[hidden] { display: none !important; }` so we also need the `!important` here to be able to override the default hidden behavior on the sphinx rendered scikit-learn.org. See: https://github.com/scikit-learn/scikit-learn/issues/21755 */display: inline-block !important;position: relative;}#sk-container-id-1 div.sk-text-repr-fallback {display: none;}</style><div id=\"sk-container-id-1\" class=\"sk-top-container\"><div class=\"sk-text-repr-fallback\"><pre>LinearRegression()</pre><b>In a Jupyter environment, please rerun this cell to show the HTML representation or trust the notebook. <br />On GitHub, the HTML representation is unable to render, please try loading this page with nbviewer.org.</b></div><div class=\"sk-container\" hidden><div class=\"sk-item\"><div class=\"sk-estimator sk-toggleable\"><input class=\"sk-toggleable__control sk-hidden--visually\" id=\"sk-estimator-id-1\" type=\"checkbox\" checked><label for=\"sk-estimator-id-1\" class=\"sk-toggleable__label sk-toggleable__label-arrow\">LinearRegression</label><div class=\"sk-toggleable__content\"><pre>LinearRegression()</pre></div></div></div></div></div>"
      ],
      "text/plain": [
       "LinearRegression()"
      ]
     },
     "execution_count": 9,
     "metadata": {},
     "output_type": "execute_result"
    }
   ],
   "source": [
    "from sklearn.linear_model import LinearRegression\n",
    "regressor=LinearRegression().fit(x,y)\n",
    "regressor"
   ]
  },
  {
   "cell_type": "code",
   "execution_count": 10,
   "id": "0806e899-85cd-47e3-9fbf-9e03b64911db",
   "metadata": {},
   "outputs": [
    {
     "name": "stdout",
     "output_type": "stream",
     "text": [
      "[  0.80575968  -0.02682585   0.02722767 -22.32057723]\n",
      "50142.50644347625\n"
     ]
    }
   ],
   "source": [
    "print(regressor.coef_)\n",
    "print(regressor.intercept_)"
   ]
  },
  {
   "cell_type": "code",
   "execution_count": 11,
   "id": "d5b3bacf-34a9-4e04-9bbf-847cb462a3b2",
   "metadata": {},
   "outputs": [
    {
     "data": {
      "text/plain": [
       "array([114385.5581763])"
      ]
     },
     "execution_count": 11,
     "metadata": {},
     "output_type": "execute_result"
    }
   ],
   "source": [
    "import numpy as np\n",
    "new_ytopredict=np.array([[72107.6,127864.55,353183.81,2]])\n",
    "regressor.predict(new_ytopredict)"
   ]
  },
  {
   "cell_type": "code",
   "execution_count": 12,
   "id": "9a4bd1be-d760-4e6a-90c6-a3afd37bdf6f",
   "metadata": {},
   "outputs": [],
   "source": [
    "import pickle\n",
    "pickle.dump(regressor,open('multilinear.pkl','wb'))"
   ]
  },
  {
   "cell_type": "code",
   "execution_count": 13,
   "id": "3b5d76b3-be69-40f6-9fe1-f7ba8ff8fea0",
   "metadata": {},
   "outputs": [],
   "source": [
    "model=pickle.load(open('multilinear.pkl','rb'))"
   ]
  },
  {
   "cell_type": "code",
   "execution_count": 35,
   "id": "e8014d74-658b-4a65-b80c-69e639c047aa",
   "metadata": {},
   "outputs": [],
   "source": [
    "from tkinter import *\n",
    "import pickle\n",
    "model=pickle.load(open('multilinear.pkl','rb'))\n",
    "root=Tk()\n",
    "root.title('Profit Prediction')\n",
    "root.geometry('400x300')\n",
    "def predictvalue():\n",
    "    xvalue=[]\n",
    "    RD=float(v.get())\n",
    "    xvalue.append(RD)\n",
    "    Admin=float(a.get())\n",
    "    xvalue.append(Admin)\n",
    "    Marketing=float(b.get())\n",
    "    xvalue.append(Marketing)\n",
    "    State=(SV.get())\n",
    "    if State==\"New York\":\n",
    "        xvalue.append(2)\n",
    "    elif State==\"California\":\n",
    "        xvalue.append(0)\n",
    "    else:\n",
    "        xvalue.append(1)\n",
    "    ypredict=[np.array(xvalue)]\n",
    "    o.set(model.predict(ypredict))\n",
    "Label(root,text=\"R&D Spend\").grid(row=0,column=0)\n",
    "v=StringVar()\n",
    "Entry(root,textvariable=v).grid(row=0,column=1)\n",
    "Label(root,text=\"Administration\").grid(row=1,column=0)\n",
    "a=StringVar()\n",
    "Entry(root,textvariable=a).grid(row=1,column=1)\n",
    "Label(root,text=\"Marketing Spend\").grid(row=2,column=0)\n",
    "b=StringVar()\n",
    "Entry(root,textvariable=b).grid(row=2,column=1)\n",
    "Label(root,text=\"State\").grid(row=3,column=0)\n",
    "Statevalue=['New York','California','Florida']\n",
    "SV=StringVar(root)\n",
    "SV.set('Select State from dropdown')\n",
    "OptionMenu(root,SV,*Statevalue).grid(row=3,column=1)\n",
    "Button(root,text='Submit',command=predictvalue).grid(row=5,column=1)\n",
    "Label(root,text=\"Profit predicted\").grid(row=6,column=0)\n",
    "o=StringVar()\n",
    "Entry(root,textvariable=o).grid(row=6,column=1)\n",
    "root.mainloop()"
   ]
  },
  {
   "cell_type": "code",
   "execution_count": null,
   "id": "513876b8-b6d3-4fea-b069-3c4349340209",
   "metadata": {},
   "outputs": [],
   "source": []
  }
 ],
 "metadata": {
  "kernelspec": {
   "display_name": "Python 3 (ipykernel)",
   "language": "python",
   "name": "python3"
  },
  "language_info": {
   "codemirror_mode": {
    "name": "ipython",
    "version": 3
   },
   "file_extension": ".py",
   "mimetype": "text/x-python",
   "name": "python",
   "nbconvert_exporter": "python",
   "pygments_lexer": "ipython3",
   "version": "3.11.7"
  }
 },
 "nbformat": 4,
 "nbformat_minor": 5
}
